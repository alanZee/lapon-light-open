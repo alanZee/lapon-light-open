{
 "cells": [
  {
   "cell_type": "code",
   "execution_count": null,
   "id": "adff6a4a-5653-4a54-bc7d-f9a685ca94e9",
   "metadata": {},
   "outputs": [],
   "source": [
    "import os, sys\n",
    "from pathlib import Path\n",
    "ROOT = os.path.abspath(\"../lapon\") # LaPON root directory\n",
    "if str(ROOT) not in sys.path:\n",
    "    sys.path.append(ROOT) # add ROOT to PATH for import\n",
    "from engine.base_trainer import BaseTrainer"
   ]
  },
  {
   "cell_type": "markdown",
   "id": "8ad44737-11ab-4f0a-a489-95e30d62b8c9",
   "metadata": {},
   "source": [
    "Set the config file path"
   ]
  },
  {
   "cell_type": "code",
   "execution_count": null,
   "id": "6c91a166-7709-40e6-b5db-fd4f99d39c23",
   "metadata": {},
   "outputs": [],
   "source": [
    "cfg = Path(ROOT) / 'cfg/default.yaml'\n",
    "assert Path(cfg).exists(), f'ERROR ❌ the cfg path ({cfg}) is wrong'"
   ]
  },
  {
   "cell_type": "markdown",
   "id": "24e60338-6897-4e2b-a2e6-8dfff8761ee3",
   "metadata": {},
   "source": [
    "Instantiate an training engine"
   ]
  },
  {
   "cell_type": "code",
   "execution_count": null,
   "id": "5c45d945-6b50-4d21-afda-d7d5fdbc0612",
   "metadata": {},
   "outputs": [],
   "source": [
    "trainer = BaseTrainer(\n",
    "    cfg=cfg\n",
    "    )"
   ]
  },
  {
   "cell_type": "markdown",
   "id": "5d2405e0-cfee-4649-98d9-6f7e7541c399",
   "metadata": {},
   "source": [
    "Tune config"
   ]
  },
  {
   "cell_type": "code",
   "execution_count": null,
   "id": "daac59ef-3178-447c-836d-85b9fc4d11f0",
   "metadata": {},
   "outputs": [],
   "source": [
    "# trainer.loss_fn = nn.SmoothL1Loss(reduction='mean', beta=1.0)\n",
    "# trainer.model.no_ni = False # Disable the normalization and inverse normalization of the inputs and outputs of each ANN module\n",
    "# trainer.model.eval()\n",
    "# torch.autograd.set_detect_anomaly(True) # for debug\n",
    "\n",
    "# trainer.cfg['epochs'] = 10\n",
    "# trainer.cfg['optimizer'] = 'Adam' \n",
    "# trainer.cfg['lr0'] = 1e-5"
   ]
  },
  {
   "cell_type": "markdown",
   "id": "e14e27c0-b464-4953-8624-d3d9457368de",
   "metadata": {},
   "source": [
    "Model train"
   ]
  },
  {
   "cell_type": "code",
   "execution_count": null,
   "id": "8d800f9a-6140-443f-95fe-11566ded0453",
   "metadata": {},
   "outputs": [],
   "source": [
    "trainer.fit()\n",
    "print(\"✅ finish!\")"
   ]
  },
  {
   "cell_type": "code",
   "execution_count": null,
   "id": "3fa3b681-aa0d-439c-9fa1-335547d94928",
   "metadata": {},
   "outputs": [],
   "source": [
    "# print(trainer.model.training)"
   ]
  },
  {
   "cell_type": "code",
   "execution_count": null,
   "id": "c962abbf-7b02-4bf4-a440-b203e2c15acc",
   "metadata": {},
   "outputs": [],
   "source": []
  },
  {
   "cell_type": "code",
   "execution_count": null,
   "id": "2b04c1a1-726f-44c8-8b1b-a08ad6efd231",
   "metadata": {},
   "outputs": [],
   "source": []
  }
 ],
 "metadata": {
  "kernelspec": {
   "display_name": "zero",
   "language": "python",
   "name": "zero"
  },
  "language_info": {
   "codemirror_mode": {
    "name": "ipython",
    "version": 3
   },
   "file_extension": ".py",
   "mimetype": "text/x-python",
   "name": "python",
   "nbconvert_exporter": "python",
   "pygments_lexer": "ipython3",
   "version": "3.8.19"
  }
 },
 "nbformat": 4,
 "nbformat_minor": 5
}
